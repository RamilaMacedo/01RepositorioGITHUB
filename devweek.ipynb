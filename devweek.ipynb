{
  "nbformat": 4,
  "nbformat_minor": 0,
  "metadata": {
    "colab": {
      "provenance": [],
      "authorship_tag": "ABX9TyMBnndQpryRD+GCd4bQlV8l",
      "include_colab_link": true
    },
    "kernelspec": {
      "name": "python3",
      "display_name": "Python 3"
    },
    "language_info": {
      "name": "python"
    }
  },
  "cells": [
    {
      "cell_type": "markdown",
      "metadata": {
        "id": "view-in-github",
        "colab_type": "text"
      },
      "source": [
        "<a href=\"https://colab.research.google.com/github/Roms2806/01repositorio/blob/main/devweek.ipynb\" target=\"_parent\"><img src=\"https://colab.research.google.com/assets/colab-badge.svg\" alt=\"Open In Colab\"/></a>"
      ]
    },
    {
      "cell_type": "code",
      "execution_count": 8,
      "metadata": {
        "colab": {
          "base_uri": "https://localhost:8080/"
        },
        "id": "rOc44LFJrQ1t",
        "outputId": "939e7503-7769-4997-a95d-bc4d7bed94e0"
      },
      "outputs": [
        {
          "output_type": "stream",
          "name": "stdout",
          "text": [
            "  hora              lugar\n",
            "0   6h           dar aula\n",
            "1   7h           academia\n",
            "2   8h          futevolei\n",
            "3   9h            mercado\n",
            "4  10h  passeio com doogs\n",
            "-16.666666666666664\n"
          ]
        }
      ],
      "source": [
        "import pandas as pd\n",
        "\n",
        "dados = pd.read_csv('/arquivo.csv', delimiter = ';') #read ler o arquivo\n",
        "print(dados.head()) #head mostra o arquivo em tela a baixo com print\n",
        "\n",
        "detratores = 0\n",
        "promotores = 0\n",
        "\n",
        "nota = dados['hora']\n",
        "\n",
        "for hora in nota:\n",
        "  if hora >= '9':\n",
        "    promotores += 1\n",
        "  elif hora <= '6':\n",
        "    detratores += 1\n",
        "nps = (promotores - detratores) / len(nota) *100\n",
        "print(nps)"
      ]
    }
  ]
}